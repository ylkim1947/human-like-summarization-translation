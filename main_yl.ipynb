{
  "cells": [
    {
      "cell_type": "markdown",
      "metadata": {
        "id": "view-in-github",
        "colab_type": "text"
      },
      "source": [
        "<a href=\"https://colab.research.google.com/github/ylkim1947/human-like-summarization-translation/blob/main/main_yl.ipynb\" target=\"_parent\"><img src=\"https://colab.research.google.com/assets/colab-badge.svg\" alt=\"Open In Colab\"/></a>"
      ]
    },
    {
      "cell_type": "markdown",
      "id": "e2f327e7",
      "metadata": {
        "id": "e2f327e7"
      },
      "source": [
        "# OpenAPI를 이용한 논문, 기사, 글 요약 및 번역\n",
        "\n",
        "https://jehyunlee.github.io/2022/07/02/Python-DS-106-aaicon/\n",
        "\n",
        "### Reference\n",
        "\n",
        "```\n",
        "이제현, 유시현, 김창기, 김현구, \"Open API를 활용한 고속 논문 분석\",\n",
        "실용인공지능학회지 vol.1 p.9, 2022\n",
        "```"
      ]
    },
    {
      "cell_type": "markdown",
      "id": "df051431",
      "metadata": {
        "id": "df051431"
      },
      "source": [
        "## API 키 발급\n",
        "\n",
        "- RapidAPI : https://rapidapi.com/developer/new\n",
        "- 네이버 : https://developers.naver.com/apps/#/register?api=ppg_n2mt"
      ]
    },
    {
      "cell_type": "code",
      "execution_count": 1,
      "id": "b204963a",
      "metadata": {
        "id": "b204963a"
      },
      "outputs": [],
      "source": [
        "rapidapi_key = '9a44300dfdmshaa62da9bf11b6a1p1b39c8jsnfecd9f533d4e'\n",
        "naver_client_id = 'br4sQgGhMNv4SSizUKgs'\n",
        "naver_client_secret = 'X1dTly_NoF'"
      ]
    },
    {
      "cell_type": "markdown",
      "id": "f74b1efd",
      "metadata": {
        "id": "f74b1efd"
      },
      "source": [
        "# TLDRThis\n",
        "\n",
        "- https://rapidapi.com/tldrthishq-tldrthishq-default/api/tldrthis/\n",
        "\n",
        "---\n",
        "\n",
        "## 요약의 종류\n",
        "\n",
        "1. Abstractive(Human-like) summarization\n",
        "\n",
        "> Abstractive summarization(생성 요약)은 기존 Input text를 그대로 인용하지 않고, 기존의 내용을 새롭게 re-phrasing 하여 Summary를 생성하는 요약 모델입니다.\n",
        "\n",
        "2. Extractive summarization\n",
        "\n",
        "> 반면에 Extractive summarization(추출 요약)은 기존 Input text에 존재하는 중요한 단어를 그대로 사용하여 Summary를 생성하는 요약 모델입니다.\n",
        "\n",
        "출처 : https://supkoon.tistory.com/40"
      ]
    },
    {
      "cell_type": "code",
      "execution_count": 2,
      "id": "69898271",
      "metadata": {
        "id": "69898271"
      },
      "outputs": [],
      "source": [
        "import requests\n",
        "from pprint import pprint"
      ]
    },
    {
      "cell_type": "markdown",
      "id": "61573ca4",
      "metadata": {
        "id": "61573ca4"
      },
      "source": [
        "### 예시 논문\n",
        "\n",
        "Attention Is All You Need\n",
        "- 페이지 : https://arxiv.org/abs/1706.03762\n",
        "- 본문(pdf) : https://arxiv.org/pdf/1706.03762.pdf"
      ]
    },
    {
      "cell_type": "markdown",
      "id": "f600ad29",
      "metadata": {
        "id": "f600ad29"
      },
      "source": [
        "## 요약"
      ]
    },
    {
      "cell_type": "code",
      "execution_count": 7,
      "id": "c8a7b18a",
      "metadata": {
        "id": "c8a7b18a",
        "outputId": "00c9c1ec-1659-444a-b5ff-ce8e5ec6124c",
        "colab": {
          "base_uri": "https://localhost:8080/"
        }
      },
      "outputs": [
        {
          "output_type": "stream",
          "name": "stdout",
          "text": [
            "{'article_abstract': None,\n",
            " 'article_authors': [],\n",
            " 'article_html': '<p>Pinti, P., Scholkmann, F., Hamilton, A., Burgess, P., '\n",
            "                 '&amp; Tachtsidis, I. (2019).  '\n",
            "                 'doi:10.3389/fnhum.2018.00505</p>',\n",
            " 'article_image': None,\n",
            " 'article_pub_date': 'Fri, 04 Sep 2020 00:00:00 GMT',\n",
            " 'article_text': 'Pinti, P., Scholkmann, F., Hamilton, A., Burgess, P., & '\n",
            "                 'Tachtsidis, I. (2019). doi:10.3389/fnhum.2018.00505',\n",
            " 'article_title': 'Current Status and Issues Regarding Pre-processing of fNIRS '\n",
            "                  'Neuroimaging Data: An Investigation of Diverse Signal '\n",
            "                  'Filtering Methods Within a General Linear Model Framework. '\n",
            "                  'Frontiers in Human Neuroscience, 12.',\n",
            " 'article_url': 'https://sci-hub.mksa.top/https://www.frontiersin.org/articles/10.3389/fnhum.2018.00505/full',\n",
            " 'summary': ['Pinti, P. Scholkmann, F., Hamilton, A., Burgess, P., & '\n",
            "             'Tachtsidis, I. (2019)doi:10.3389/fnhum.2018.00505, '\n",
            "             'http://www.nfh.org.uk/news/features/features-top-stories/top-10-stories-of-the-year.html.']}\n"
          ]
        }
      ],
      "source": [
        "url = \"https://tldrthis.p.rapidapi.com/v1/model/abstractive/summarize-url/\"\n",
        "\n",
        "payload = {\n",
        "    \"url\": \"https://sci-hub.mksa.top/https://www.frontiersin.org/articles/10.3389/fnhum.2018.00505/full\", # 주소\n",
        "    \"min_length\": 100, # 최소 길이\n",
        "    \"max_length\": 300, # 최대 길이\n",
        "    \"is_detailed\": False # 한 문장으로 반환할 것인지 여부\n",
        "}\n",
        "\n",
        "headers = {\n",
        "    \"content-type\": \"application/json\",\n",
        "    \"X-RapidAPI-Key\": rapidapi_key,\n",
        "    \"X-RapidAPI-Host\": \"tldrthis.p.rapidapi.com\"\n",
        "}\n",
        "\n",
        "response = requests.request(\"POST\", url, json=payload, headers=headers)\n",
        "\n",
        "pprint(response.json())"
      ]
    },
    {
      "cell_type": "code",
      "execution_count": 8,
      "id": "a9911dfa",
      "metadata": {
        "id": "a9911dfa",
        "outputId": "df2df5ea-a58c-47a5-9a02-d777dcab5d01",
        "colab": {
          "base_uri": "https://localhost:8080/"
        }
      },
      "outputs": [
        {
          "output_type": "stream",
          "name": "stdout",
          "text": [
            "Pinti, P. Scholkmann, F., Hamilton, A., Burgess, P., & Tachtsidis, I. (2019)doi:10.3389/fnhum.2018.00505, http://www.nfh.org.uk/news/features/features-top-stories/top-10-stories-of-the-year.html.\n"
          ]
        }
      ],
      "source": [
        "summary = response.json()['summary'][0].strip()\n",
        "\n",
        "print(summary)"
      ]
    },
    {
      "cell_type": "markdown",
      "id": "142c4aa4",
      "metadata": {
        "id": "142c4aa4"
      },
      "source": [
        "## 번역\n",
        "\n",
        "네이버 파파고 API"
      ]
    },
    {
      "cell_type": "code",
      "execution_count": 9,
      "id": "8bc6a8ee",
      "metadata": {
        "id": "8bc6a8ee",
        "outputId": "38401a84-1b1b-470c-f4fa-1210b0c85aa3",
        "colab": {
          "base_uri": "https://localhost:8080/"
        }
      },
      "outputs": [
        {
          "output_type": "stream",
          "name": "stdout",
          "text": [
            "{'message': {'@service': 'naverservice.nmt.proxy',\n",
            "             '@type': 'response',\n",
            "             '@version': '1.0.0',\n",
            "             'result': {'engineType': 'N2MT',\n",
            "                        'srcLangType': 'en',\n",
            "                        'tarLangType': 'ko',\n",
            "                        'translatedText': 'Pinti, P. Scholkmann, F., Hamilton, '\n",
            "                                          'A., Burgess, P. & Tachtsidis, I. '\n",
            "                                          '(2019) doi:10.3389/fnhum. '\n",
            "                                          '2018.00505, '\n",
            "                                          'http://www.nfh.org.uk/news/features/features-top-stories/top-10-stories-of-the-year.html.'}}}\n"
          ]
        }
      ],
      "source": [
        "url = \"https://openapi.naver.com/v1/papago/n2mt\"\n",
        "\n",
        "payload = {\n",
        "    \"source\": \"en\",\n",
        "    \"target\": \"ko\",\n",
        "    \"text\": summary,\n",
        "}\n",
        "\n",
        "headers = {\n",
        "    \"content-type\": \"application/json\",\n",
        "    \"X-Naver-Client-Id\": naver_client_id,\n",
        "    \"X-Naver-Client-Secret\": naver_client_secret,\n",
        "}\n",
        "\n",
        "response = requests.request(\"POST\", url, json=payload, headers=headers)\n",
        "\n",
        "pprint(response.json())"
      ]
    },
    {
      "cell_type": "code",
      "execution_count": 10,
      "id": "e204b577",
      "metadata": {
        "id": "e204b577",
        "outputId": "48efa9bb-86ff-436e-d7ac-521d31ddf001",
        "colab": {
          "base_uri": "https://localhost:8080/"
        }
      },
      "outputs": [
        {
          "output_type": "stream",
          "name": "stdout",
          "text": [
            "Pinti, P. Scholkmann, F., Hamilton, A., Burgess, P. & Tachtsidis, I. (2019) doi:10.3389/fnhum. 2018.00505, http://www.nfh.org.uk/news/features/features-top-stories/top-10-stories-of-the-year.html.\n"
          ]
        }
      ],
      "source": [
        "print(response.json()['message']['result']['translatedText'])"
      ]
    },
    {
      "cell_type": "markdown",
      "id": "df0b8837",
      "metadata": {
        "id": "df0b8837"
      },
      "source": [
        "## 함수화"
      ]
    },
    {
      "cell_type": "code",
      "execution_count": 11,
      "id": "3ef2e310",
      "metadata": {
        "id": "3ef2e310"
      },
      "outputs": [],
      "source": [
        "def summarize_and_translate(article_url, min_length=100, max_length=300):\n",
        "    url = \"https://tldrthis.p.rapidapi.com/v1/model/abstractive/summarize-url/\"\n",
        "\n",
        "    payload = {\n",
        "        \"url\": article_url, # 주소\n",
        "        \"min_length\": min_length, # 최소 길이\n",
        "        \"max_length\": max_length, # 최대 길이\n",
        "        \"is_detailed\": False # 한 문장으로 반환할 것인지 여부\n",
        "    }\n",
        "\n",
        "    headers = {\n",
        "        \"content-type\": \"application/json\",\n",
        "        \"X-RapidAPI-Key\": rapidapi_key,\n",
        "        \"X-RapidAPI-Host\": \"tldrthis.p.rapidapi.com\"\n",
        "    }\n",
        "\n",
        "    response = requests.request(\"POST\", url, json=payload, headers=headers)\n",
        "\n",
        "    summary = response.json()['summary'][0].strip()\n",
        "    \n",
        "    url = \"https://openapi.naver.com/v1/papago/n2mt\"\n",
        "\n",
        "    payload = {\n",
        "        \"source\": \"en\",\n",
        "        \"target\": \"ko\",\n",
        "        \"text\": summary,\n",
        "    }\n",
        "\n",
        "    headers = {\n",
        "        \"content-type\": \"application/json\",\n",
        "        \"X-Naver-Client-Id\": naver_client_id,\n",
        "        \"X-Naver-Client-Secret\": naver_client_secret\n",
        "    }\n",
        "\n",
        "    response = requests.request(\"POST\", url, json=payload, headers=headers)\n",
        "    \n",
        "    return response.json()['message']['result']['translatedText']"
      ]
    },
    {
      "cell_type": "code",
      "execution_count": 12,
      "id": "88afea5a",
      "metadata": {
        "id": "88afea5a",
        "outputId": "5d23331e-4f0b-4e93-aadb-d1ed534bc38c",
        "colab": {
          "base_uri": "https://localhost:8080/",
          "height": 54
        }
      },
      "outputs": [
        {
          "output_type": "execute_result",
          "data": {
            "text/plain": [
              "'지배적인 시퀀스 변환 모델은 인코더와 디코더를 포함하는 복잡한 순환 또는 컨볼루션 신경망을 기반으로 한다. 우리는 반복과 컨볼루션을 완전히 배제하고 주의 메커니즘만을 기반으로 하는 새로운 단순한 네트워크 아키텍처를 제안한다. 두 가지 기계 번역 과제를 대상으로 실험한 결과, 트랜스포머 모델은 품질이 우수함과 동시에 병렬 처리성이 높아져 학습에 훨씬 적은 시간이 소요되는 것으로 나타났습니다.'"
            ],
            "application/vnd.google.colaboratory.intrinsic+json": {
              "type": "string"
            }
          },
          "metadata": {},
          "execution_count": 12
        }
      ],
      "source": [
        "summarize_and_translate(\"https://arxiv.org/pdf/1706.03762.pdf\", 50, 100)"
      ]
    },
    {
      "cell_type": "code",
      "execution_count": 13,
      "id": "52a35173",
      "metadata": {
        "id": "52a35173",
        "outputId": "eb5ada7b-2af3-465e-b18a-dc9fdc20e346",
        "colab": {
          "base_uri": "https://localhost:8080/",
          "height": 54
        }
      },
      "outputs": [
        {
          "output_type": "execute_result",
          "data": {
            "text/plain": [
              "'컨볼루션 신경망(ConvNets)은 일반적으로 고정된 리소스 예산으로 개발된 다음 더 많은 리소스를 사용할 수 있는 경우 더 나은 정확도를 위해 확장된다. 이전 작업에서는 깊이, 너비, 이미지 크기 등 세 가지 차원 중 하나만 축척하는 것이 일반적이다. 우리는 간단하지만 매우 효과적인 복합 계수를 사용하여 깊이/폭/해상도의 모든 차원을 균일하게 확장하는 새로운 스케일링 방법을 제안한다.'"
            ],
            "application/vnd.google.colaboratory.intrinsic+json": {
              "type": "string"
            }
          },
          "metadata": {},
          "execution_count": 13
        }
      ],
      "source": [
        "summarize_and_translate(\"https://arxiv.org/pdf/1905.11946.pdf\", 100, 200)"
      ]
    },
    {
      "cell_type": "code",
      "execution_count": null,
      "id": "286fefce",
      "metadata": {
        "id": "286fefce"
      },
      "outputs": [],
      "source": []
    }
  ],
  "metadata": {
    "kernelspec": {
      "display_name": "Python 3 (ipykernel)",
      "language": "python",
      "name": "python3"
    },
    "language_info": {
      "codemirror_mode": {
        "name": "ipython",
        "version": 3
      },
      "file_extension": ".py",
      "mimetype": "text/x-python",
      "name": "python",
      "nbconvert_exporter": "python",
      "pygments_lexer": "ipython3",
      "version": "3.8.5"
    },
    "colab": {
      "provenance": [],
      "include_colab_link": true
    }
  },
  "nbformat": 4,
  "nbformat_minor": 5
}